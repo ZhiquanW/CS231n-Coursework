{
 "nbformat": 4,
 "nbformat_minor": 2,
 "metadata": {
  "language_info": {
   "name": "python",
   "codemirror_mode": {
    "name": "ipython",
    "version": 3
   },
   "version": "3.7.4-final"
  },
  "orig_nbformat": 2,
  "file_extension": ".py",
  "mimetype": "text/x-python",
  "name": "python",
  "npconvert_exporter": "python",
  "pygments_lexer": "ipython3",
  "version": 3,
  "kernelspec": {
   "name": "python37464bitdevconda031155a1a290435ebab1e3ce4191fda2",
   "display_name": "Python 3.7.4 64-bit ('dev': conda)"
  }
 },
 "cells": [
  {
   "cell_type": "code",
   "execution_count": 2,
   "metadata": {},
   "outputs": [
    {
     "name": "stdout",
     "output_type": "stream",
     "text": "[[1. 1. 1. 1. 1. 1. 1. 1. 1. 1.]\n [1. 1. 1. 1. 1. 1. 1. 1. 1. 1.]\n [1. 1. 1. 1. 1. 1. 1. 1. 1. 1.]\n [1. 1. 1. 1. 1. 1. 1. 1. 1. 1.]\n [1. 1. 1. 1. 1. 1. 1. 1. 1. 1.]\n [1. 1. 1. 1. 1. 1. 1. 1. 1. 1.]\n [1. 1. 1. 1. 1. 1. 1. 1. 1. 1.]\n [1. 1. 1. 1. 1. 1. 1. 1. 1. 1.]\n [1. 1. 1. 1. 1. 1. 1. 1. 1. 1.]\n [1. 1. 1. 1. 1. 1. 1. 1. 1. 1.]]\n[ 1  2  3  4  5  6  7  8  9 10]\n[1.         0.35355339 0.19245009 0.125      0.08944272 0.06804138\n 0.05399492 0.04419417 0.03703704 0.03162278]\n[[ 1.  2.  3.  4.  5.  6.  7.  8.  9. 10.]\n [ 1.  2.  3.  4.  5.  6.  7.  8.  9. 10.]\n [ 1.  2.  3.  4.  5.  6.  7.  8.  9. 10.]\n [ 1.  2.  3.  4.  5.  6.  7.  8.  9. 10.]\n [ 1.  2.  3.  4.  5.  6.  7.  8.  9. 10.]\n [ 1.  2.  3.  4.  5.  6.  7.  8.  9. 10.]\n [ 1.  2.  3.  4.  5.  6.  7.  8.  9. 10.]\n [ 1.  2.  3.  4.  5.  6.  7.  8.  9. 10.]\n [ 1.  2.  3.  4.  5.  6.  7.  8.  9. 10.]\n [ 1.  2.  3.  4.  5.  6.  7.  8.  9. 10.]]\n"
    }
   ],
   "source": [
    "import numpy as np\n",
    "\n",
    "tmp_mat = np.ones((10,10),dtype=float)\n",
    "print(tmp_mat)\n",
    "vec0 = np.array([i+1 for i in range(10)])\n",
    "print(vec0)\n",
    "print(vec0**(-3/2))\n",
    "print(tmp_mat*vec0)"
   ]
  }
 ]
}